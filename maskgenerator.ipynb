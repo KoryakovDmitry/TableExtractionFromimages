{
 "cells": [
  {
   "cell_type": "code",
   "execution_count": 1,
   "metadata": {},
   "outputs": [],
   "source": [
    "\n",
    "import xml.etree.ElementTree as ET\n",
    "import os\n",
    "import numpy as np\n",
    "from PIL import Image\n",
    "import cv2"
   ]
  },
  {
   "cell_type": "code",
   "execution_count": 18,
   "metadata": {},
   "outputs": [],
   "source": [
    "'''\n",
    "Generate Comumn and Table mask from Marmot Data\n",
    "'''\n",
    "\n",
    "\n",
    "from PIL import Image\n",
    "directory='data/labels/'\n",
    "final_table_directory='data/tablemask/'\n",
    "for file in os.listdir(directory):\n",
    "    filename = os.fsdecode(file)\n",
    "    #print(filename)\n",
    "    # Find all the xml files\n",
    "    if filename.endswith(\".xml\"):\n",
    "        # Parse xml file\n",
    "        tree = ET.parse('data/labels/' + filename)\n",
    "        root = tree.getroot()\n",
    "        size = root.find('size')\n",
    "\n",
    "        # Parse width\n",
    "        width = int(size.find('width').text)\n",
    "        height = int(size.find('height').text)\n",
    "\n",
    "        # Create grayscale image array\n",
    "        #col_mask = np.zeros((height, width), dtype=np.int32)\n",
    "        table_mask = np.zeros((height, width), dtype = np.int32)\n",
    "\n",
    "        #got_first_column = False\n",
    "        i=0\n",
    "        table_xmin =0\n",
    "        table_xmax =width\n",
    "\n",
    "        table_ymin =0\n",
    "        table_ymax =height\n",
    "\n",
    "        for table in root.findall('object'):\n",
    "            bndbox = table.find('bndbox')\n",
    "            xmin = int(bndbox.find('xmin').text)\n",
    "            if xmin<table_xmin:\n",
    "                xmin=table_xmin\n",
    "            ymin = int(bndbox.find('ymin').text)\n",
    "            if ymin<table_ymin:\n",
    "                ymin=table_ymin\n",
    "            xmax = int(bndbox.find('xmax').text)\n",
    "            if xmax>table_xmax:\n",
    "                xmax=table_xmax\n",
    "            ymax = int(bndbox.find('ymax').text)\n",
    "            if ymax>table_ymax:\n",
    "                ymax=table_ymax\n",
    "\n",
    "            table_mask[ymin:ymax, xmin:xmax] = 255\n",
    "            \n",
    "                                \n",
    "    #im = Image.fromarray(table_mask.astype(np.uint8),'L')\n",
    "    filename=filename.replace(\".xml\",\"\")\n",
    "    cv2.imwrite(final_table_directory+filename+\".jpeg\",table_mask)\n",
    "    #im.save(final_table_directory+filename+\".jpeg\")"
   ]
  },
  {
   "cell_type": "code",
   "execution_count": 7,
   "metadata": {},
   "outputs": [],
   "source": [
    "import pandas as pd\n",
    "table=pd.read_csv('datatesttrain/records.csv')"
   ]
  },
  {
   "cell_type": "code",
   "execution_count": 14,
   "metadata": {},
   "outputs": [
    {
     "data": {
      "text/plain": [
       "Unnamed: 0                                                       73\n",
       "filename                                                  00080.PNG\n",
       "imagefilepath                                 data/images/00080.PNG\n",
       "targetfilepath                                data/labels/00080.xml\n",
       "imagesize                                           ['0', '0', '3']\n",
       "tablecount                                                        1\n",
       "tables            [OrderedDict([('name', 'Table'), ('pose', 'Uns...\n",
       "bndboxlim         [OrderedDict([('xmin', '54'), ('ymin', '864'),...\n",
       "Name: 73, dtype: object"
      ]
     },
     "execution_count": 14,
     "metadata": {},
     "output_type": "execute_result"
    }
   ],
   "source": [
    "l=table.iloc[73]\n",
    "height=l['imagesize'][1]\n",
    "width=l['imagesize'][0]\n",
    "l"
   ]
  },
  {
   "cell_type": "code",
   "execution_count": null,
   "metadata": {},
   "outputs": [],
   "source": [
    "table_mask = np.zeros((height, width), dtype = np.int32)"
   ]
  },
  {
   "cell_type": "code",
   "execution_count": 10,
   "metadata": {},
   "outputs": [],
   "source": [
    "\n",
    "def mask(filename):\n",
    "    \n",
    "    #print(filename)\n",
    "    # Find all the xml files\n",
    "    if filename.endswith(\".xml\"):\n",
    "        # Parse xml file\n",
    "        tree = ET.parse('data/labels/' + filename)\n",
    "        root = tree.getroot()\n",
    "        size = root.find('size')\n",
    "\n",
    "        # Parse width\n",
    "        width = int(size.find('width').text)\n",
    "        height = int(size.find('height').text)\n",
    "\n",
    "        # Create grayscale image array\n",
    "        #col_mask = np.zeros((height, width), dtype=np.int32)\n",
    "        table_mask = np.zeros((height, width), dtype = np.int32)\n",
    "\n",
    "        #got_first_column = False\n",
    "        i=0\n",
    "        table_xmin =0\n",
    "        table_xmax =width\n",
    "\n",
    "        table_ymin =0\n",
    "        table_ymax =height\n",
    "\n",
    "        for table in root.findall('object'):\n",
    "            bndbox = table.find('bndbox')\n",
    "            xmin = int(bndbox.find('xmin').text)\n",
    "            if xmin<table_xmin:\n",
    "                xmin=table_xmin\n",
    "            ymin = int(bndbox.find('ymin').text)\n",
    "            if ymin<table_ymin:\n",
    "                ymin=table_ymin\n",
    "            xmax = int(bndbox.find('xmax').text)\n",
    "            if xmax>table_xmax:\n",
    "                xmax=table_xmax\n",
    "            ymax = int(bndbox.find('ymax').text)\n",
    "            if ymax>table_ymax:\n",
    "                ymax=table_ymax\n",
    "\n",
    "            table_mask[ymin:ymax, xmin:xmax] = 255\n",
    "            \n",
    "                                \n",
    "    #im = Image.fromarray(table_mask.astype(np.uint8),'L')\n",
    "    filename=filename.replace(\".xml\",\"\")\n",
    "    cv2.imwrite(final_table_directory+filename+\".jpeg\",table_mask)\n",
    "    #im.save(final_table_directory+filename+\".jpeg\")"
   ]
  },
  {
   "cell_type": "code",
   "execution_count": null,
   "metadata": {},
   "outputs": [],
   "source": []
  }
 ],
 "metadata": {
  "kernelspec": {
   "display_name": "Python 3",
   "language": "python",
   "name": "python3"
  },
  "language_info": {
   "codemirror_mode": {
    "name": "ipython",
    "version": 3
   },
   "file_extension": ".py",
   "mimetype": "text/x-python",
   "name": "python",
   "nbconvert_exporter": "python",
   "pygments_lexer": "ipython3",
   "version": "3.8.3"
  }
 },
 "nbformat": 4,
 "nbformat_minor": 4
}
